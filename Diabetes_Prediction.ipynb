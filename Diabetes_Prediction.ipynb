{
 "cells": [
  {
   "cell_type": "markdown",
   "metadata": {},
   "source": [
    "# We will apply 'Linear Regression with Gradient Descent' to predict the progression of Diabetes in patients."
   ]
  },
  {
   "cell_type": "raw",
   "metadata": {},
   "source": [
    "First we will use scikit learn. Answer from this will take as reference for checking."
   ]
  },
  {
   "cell_type": "raw",
   "metadata": {},
   "source": [
    "# Import Stuff"
   ]
  },
  {
   "cell_type": "code",
   "execution_count": 1,
   "metadata": {},
   "outputs": [],
   "source": [
    "import numpy as np\n",
    "from sklearn import datasets,linear_model, metrics"
   ]
  },
  {
   "cell_type": "raw",
   "metadata": {},
   "source": [
    "##############################################################################"
   ]
  },
  {
   "cell_type": "code",
   "execution_count": 2,
   "metadata": {},
   "outputs": [
    {
     "name": "stdout",
     "output_type": "stream",
     "text": [
      "(442, 10)\n",
      "['data', 'target', 'DESCR', 'feature_names']\n",
      "Diabetes dataset\n",
      "================\n",
      "\n",
      "Notes\n",
      "-----\n",
      "\n",
      "Ten baseline variables, age, sex, body mass index, average blood\n",
      "pressure, and six blood serum measurements were obtained for each of n =\n",
      "442 diabetes patients, as well as the response of interest, a\n",
      "quantitative measure of disease progression one year after baseline.\n",
      "\n",
      "Data Set Characteristics:\n",
      "\n",
      "  :Number of Instances: 442\n",
      "\n",
      "  :Number of Attributes: First 10 columns are numeric predictive values\n",
      "\n",
      "  :Target: Column 11 is a quantitative measure of disease progression one year after baseline\n",
      "\n",
      "  :Attributes:\n",
      "    :Age:\n",
      "    :Sex:\n",
      "    :Body mass index:\n",
      "    :Average blood pressure:\n",
      "    :S1:\n",
      "    :S2:\n",
      "    :S3:\n",
      "    :S4:\n",
      "    :S5:\n",
      "    :S6:\n",
      "\n",
      "Note: Each of these 10 feature variables have been mean centered and scaled by the standard deviation times `n_samples` (i.e. the sum of squares of each column totals 1).\n",
      "\n",
      "Source URL:\n",
      "http://www4.stat.ncsu.edu/~boos/var.select/diabetes.html\n",
      "\n",
      "For more information see:\n",
      "Bradley Efron, Trevor Hastie, Iain Johnstone and Robert Tibshirani (2004) \"Least Angle Regression,\" Annals of Statistics (with discussion), 407-499.\n",
      "(http://web.stanford.edu/~hastie/Papers/LARS/LeastAngle_2002.pdf)\n",
      "\n",
      "['age', 'sex', 'bmi', 'bp', 's1', 's2', 's3', 's4', 's5', 's6']\n"
     ]
    }
   ],
   "source": [
    "#Load the diabetes dataset.\n",
    "diabetes = datasets.load_diabetes()\n",
    "diabetes_X = diabetes.data #matrix of dimension 442x10\n",
    "print(diabetes_X.shape)\n",
    "print(list(diabetes))\n",
    "print(diabetes.DESCR)\n",
    "print(diabetes.feature_names)"
   ]
  },
  {
   "cell_type": "code",
   "execution_count": 3,
   "metadata": {},
   "outputs": [
    {
     "name": "stdout",
     "output_type": "stream",
     "text": [
      "[[ 0.03807591  0.05068012  0.06169621 ... -0.00259226  0.01990842\n",
      "  -0.01764613]\n",
      " [-0.00188202 -0.04464164 -0.05147406 ... -0.03949338 -0.06832974\n",
      "  -0.09220405]\n",
      " [ 0.08529891  0.05068012  0.04445121 ... -0.00259226  0.00286377\n",
      "  -0.02593034]\n",
      " ...\n",
      " [ 0.04170844  0.05068012 -0.01590626 ... -0.01107952 -0.04687948\n",
      "   0.01549073]\n",
      " [-0.04547248 -0.04464164  0.03906215 ...  0.02655962  0.04452837\n",
      "  -0.02593034]\n",
      " [-0.04547248 -0.04464164 -0.0730303  ... -0.03949338 -0.00421986\n",
      "   0.00306441]]\n",
      "========================================================================================================================\n"
     ]
    }
   ],
   "source": [
    "print(diabetes_X)\n",
    "print(\"=\"*120)"
   ]
  },
  {
   "cell_type": "code",
   "execution_count": 4,
   "metadata": {},
   "outputs": [],
   "source": [
    "# Split the data into training and testing datasets \n",
    "diabetes_X_train = diabetes_X[:-20]\n",
    "diabetes_X_test = diabetes_X[-20:]"
   ]
  },
  {
   "cell_type": "code",
   "execution_count": 5,
   "metadata": {},
   "outputs": [
    {
     "name": "stdout",
     "output_type": "stream",
     "text": [
      "[[ 0.03807591  0.05068012  0.06169621 ... -0.00259226  0.01990842\n",
      "  -0.01764613]\n",
      " [-0.00188202 -0.04464164 -0.05147406 ... -0.03949338 -0.06832974\n",
      "  -0.09220405]\n",
      " [ 0.08529891  0.05068012  0.04445121 ... -0.00259226  0.00286377\n",
      "  -0.02593034]\n",
      " ...\n",
      " [-0.02004471 -0.04464164 -0.0547075  ... -0.03949338 -0.07408887\n",
      "  -0.0052198 ]\n",
      " [ 0.02354575 -0.04464164 -0.03638469 ...  0.03430886 -0.03324879\n",
      "   0.06105391]\n",
      " [ 0.03807591  0.05068012  0.0164281  ...  0.07120998  0.04976866\n",
      "   0.01549073]]\n",
      "========================================================================================================================\n"
     ]
    }
   ],
   "source": [
    "print(diabetes_X_train)\n",
    "print(\"=\"*120)"
   ]
  },
  {
   "cell_type": "code",
   "execution_count": 6,
   "metadata": {},
   "outputs": [
    {
     "name": "stdout",
     "output_type": "stream",
     "text": [
      "[[-0.07816532  0.05068012  0.07786339  0.05285819  0.07823631  0.0644473\n",
      "   0.02655027 -0.00259226  0.04067226 -0.00936191]\n",
      " [ 0.0090156   0.05068012 -0.03961813  0.0287581   0.03833367  0.0735286\n",
      "  -0.07285395  0.1081111   0.01556684 -0.04664087]\n",
      " [ 0.00175052  0.05068012  0.01103904 -0.01944209 -0.01670444 -0.00381907\n",
      "  -0.04708248  0.03430886  0.02405258  0.02377494]\n",
      " [-0.07816532 -0.04464164 -0.04069594 -0.08141377 -0.10063757 -0.11279473\n",
      "   0.02286863 -0.0763945  -0.02028875 -0.05078298]\n",
      " [ 0.03081083  0.05068012 -0.03422907  0.0436772   0.05759701  0.06883138\n",
      "  -0.03235593  0.05755657  0.03546194  0.08590655]\n",
      " [-0.03457486  0.05068012  0.00564998 -0.00567061 -0.07311851 -0.06269098\n",
      "  -0.00658447 -0.03949338 -0.04542096  0.03205916]\n",
      " [ 0.04897352  0.05068012  0.08864151  0.0872869   0.03558177  0.02154596\n",
      "  -0.02499266  0.03430886  0.06604821  0.13146972]\n",
      " [-0.04183994 -0.04464164 -0.03315126 -0.02288496  0.04658939  0.04158746\n",
      "   0.05600338 -0.02473293 -0.02595242 -0.03835666]\n",
      " [-0.00914709 -0.04464164 -0.05686312 -0.05042793  0.02182224  0.04534524\n",
      "  -0.02867429  0.03430886 -0.00991896 -0.01764613]\n",
      " [ 0.07076875  0.05068012 -0.03099563  0.02187235 -0.03734373 -0.04703355\n",
      "   0.03391355 -0.03949338 -0.01495648 -0.0010777 ]\n",
      " [ 0.0090156  -0.04464164  0.05522933 -0.00567061  0.05759701  0.04471895\n",
      "  -0.00290283  0.02323852  0.05568355  0.10661708]\n",
      " [-0.02730979 -0.04464164 -0.06009656 -0.02977071  0.04658939  0.01998022\n",
      "   0.12227286 -0.03949338 -0.05140054 -0.00936191]\n",
      " [ 0.01628068 -0.04464164  0.00133873  0.00810087  0.0053108   0.01089891\n",
      "   0.03023191 -0.03949338 -0.04542096  0.03205916]\n",
      " [-0.01277963 -0.04464164 -0.02345095 -0.04009932 -0.01670444  0.00463594\n",
      "  -0.01762938 -0.00259226 -0.03845911 -0.03835666]\n",
      " [-0.05637009 -0.04464164 -0.07410811 -0.05042793 -0.02496016 -0.04703355\n",
      "   0.09281975 -0.0763945  -0.0611766  -0.04664087]\n",
      " [ 0.04170844  0.05068012  0.01966154  0.05974393 -0.00569682 -0.00256647\n",
      "  -0.02867429 -0.00259226  0.03119299  0.00720652]\n",
      " [-0.00551455  0.05068012 -0.01590626 -0.06764228  0.0493413   0.07916528\n",
      "  -0.02867429  0.03430886 -0.01811827  0.04448548]\n",
      " [ 0.04170844  0.05068012 -0.01590626  0.01728186 -0.03734373 -0.01383982\n",
      "  -0.02499266 -0.01107952 -0.04687948  0.01549073]\n",
      " [-0.04547248 -0.04464164  0.03906215  0.00121513  0.01631843  0.01528299\n",
      "  -0.02867429  0.02655962  0.04452837 -0.02593034]\n",
      " [-0.04547248 -0.04464164 -0.0730303  -0.08141377  0.08374012  0.02780893\n",
      "   0.17381578 -0.03949338 -0.00421986  0.00306441]]\n",
      "========================================================================================================================\n"
     ]
    }
   ],
   "source": [
    "print(diabetes_X_test)\n",
    "print(\"=\"*120)"
   ]
  },
  {
   "cell_type": "code",
   "execution_count": 7,
   "metadata": {},
   "outputs": [],
   "source": [
    "# Split the Targets into training and testing data sets\n",
    "diabetes_Y_train = diabetes.target[:-20]\n",
    "diabetes_Y_test = diabetes.target[-20:]"
   ]
  },
  {
   "cell_type": "code",
   "execution_count": 8,
   "metadata": {},
   "outputs": [
    {
     "name": "stdout",
     "output_type": "stream",
     "text": [
      "[151.  75. 141. 206. 135.  97. 138.  63. 110. 310. 101.  69. 179. 185.\n",
      " 118. 171. 166. 144.  97. 168.  68.  49.  68. 245. 184. 202. 137.  85.\n",
      " 131. 283. 129.  59. 341.  87.  65. 102. 265. 276. 252.  90. 100.  55.\n",
      "  61.  92. 259.  53. 190. 142.  75. 142. 155. 225.  59. 104. 182. 128.\n",
      "  52.  37. 170. 170.  61. 144.  52. 128.  71. 163. 150.  97. 160. 178.\n",
      "  48. 270. 202. 111.  85.  42. 170. 200. 252. 113. 143.  51.  52. 210.\n",
      "  65. 141.  55. 134.  42. 111.  98. 164.  48.  96.  90. 162. 150. 279.\n",
      "  92.  83. 128. 102. 302. 198.  95.  53. 134. 144. 232.  81. 104.  59.\n",
      " 246. 297. 258. 229. 275. 281. 179. 200. 200. 173. 180.  84. 121. 161.\n",
      "  99. 109. 115. 268. 274. 158. 107.  83. 103. 272.  85. 280. 336. 281.\n",
      " 118. 317. 235.  60. 174. 259. 178. 128.  96. 126. 288.  88. 292.  71.\n",
      " 197. 186.  25.  84.  96. 195.  53. 217. 172. 131. 214.  59.  70. 220.\n",
      " 268. 152.  47.  74. 295. 101. 151. 127. 237. 225.  81. 151. 107.  64.\n",
      " 138. 185. 265. 101. 137. 143. 141.  79. 292. 178.  91. 116.  86. 122.\n",
      "  72. 129. 142.  90. 158.  39. 196. 222. 277.  99. 196. 202. 155.  77.\n",
      " 191.  70.  73.  49.  65. 263. 248. 296. 214. 185.  78.  93. 252. 150.\n",
      "  77. 208.  77. 108. 160.  53. 220. 154. 259.  90. 246. 124.  67.  72.\n",
      " 257. 262. 275. 177.  71.  47. 187. 125.  78.  51. 258. 215. 303. 243.\n",
      "  91. 150. 310. 153. 346.  63.  89.  50.  39. 103. 308. 116. 145.  74.\n",
      "  45. 115. 264.  87. 202. 127. 182. 241.  66.  94. 283.  64. 102. 200.\n",
      " 265.  94. 230. 181. 156. 233.  60. 219.  80.  68. 332. 248.  84. 200.\n",
      "  55.  85.  89.  31. 129.  83. 275.  65. 198. 236. 253. 124.  44. 172.\n",
      " 114. 142. 109. 180. 144. 163. 147.  97. 220. 190. 109. 191. 122. 230.\n",
      " 242. 248. 249. 192. 131. 237.  78. 135. 244. 199. 270. 164.  72.  96.\n",
      " 306.  91. 214.  95. 216. 263. 178. 113. 200. 139. 139.  88. 148.  88.\n",
      " 243.  71.  77. 109. 272.  60.  54. 221.  90. 311. 281. 182. 321.  58.\n",
      " 262. 206. 233. 242. 123. 167.  63. 197.  71. 168. 140. 217. 121. 235.\n",
      " 245.  40.  52. 104. 132.  88.  69. 219.  72. 201. 110.  51. 277.  63.\n",
      " 118.  69. 273. 258.  43. 198. 242. 232. 175.  93. 168. 275. 293. 281.\n",
      "  72. 140. 189. 181. 209. 136. 261. 113. 131. 174. 257.  55.  84.  42.\n",
      " 146. 212.]\n",
      "========================================================================================================================\n"
     ]
    }
   ],
   "source": [
    "print(diabetes_Y_train)\n",
    "print(\"=\"*120)"
   ]
  },
  {
   "cell_type": "code",
   "execution_count": 9,
   "metadata": {},
   "outputs": [
    {
     "name": "stdout",
     "output_type": "stream",
     "text": [
      "[233.  91. 111. 152. 120.  67. 310.  94. 183.  66. 173.  72.  49.  64.\n",
      "  48. 178. 104. 132. 220.  57.]\n",
      "========================================================================================================================\n"
     ]
    }
   ],
   "source": [
    "print(diabetes_Y_test)\n",
    "print(\"=\"*120)"
   ]
  },
  {
   "cell_type": "code",
   "execution_count": 10,
   "metadata": {},
   "outputs": [],
   "source": [
    "###### Scikit Learn"
   ]
  },
  {
   "cell_type": "code",
   "execution_count": 11,
   "metadata": {},
   "outputs": [],
   "source": [
    "# Create an object of linear regression\n",
    "regr = linear_model.LinearRegression()"
   ]
  },
  {
   "cell_type": "code",
   "execution_count": 12,
   "metadata": {},
   "outputs": [
    {
     "data": {
      "text/plain": [
       "LinearRegression(copy_X=True, fit_intercept=True, n_jobs=1, normalize=False)"
      ]
     },
     "execution_count": 12,
     "metadata": {},
     "output_type": "execute_result"
    }
   ],
   "source": [
    "# Train the model with training datasets.\n",
    "regr.fit(diabetes_X_train,diabetes_Y_train)"
   ]
  },
  {
   "cell_type": "code",
   "execution_count": 13,
   "metadata": {},
   "outputs": [
    {
     "name": "stdout",
     "output_type": "stream",
     "text": [
      "[197.61846908 155.43979328 172.88665147 111.53537279 164.80054784\n",
      " 131.06954875 259.12237761 100.47935157 117.0601052  124.30503555\n",
      " 218.36632793  61.19831284 132.25046751 120.3332925   52.54458691\n",
      " 194.03798088 102.57139702 123.56604987 211.0346317   52.60335674]\n",
      "========================================================================================================================\n"
     ]
    }
   ],
   "source": [
    "# Make predictions using the testing set.\n",
    "diabetes_Y_prediction = regr.predict(diabetes_X_test)\n",
    "print(diabetes_Y_prediction)\n",
    "print(\"=\"*120)"
   ]
  },
  {
   "cell_type": "code",
   "execution_count": 14,
   "metadata": {},
   "outputs": [
    {
     "name": "stdout",
     "output_type": "stream",
     "text": [
      "Coefficients: \n",
      " [ 3.03499549e-01 -2.37639315e+02  5.10530605e+02  3.27736980e+02\n",
      " -8.14131709e+02  4.92814588e+02  1.02848452e+02  1.84606489e+02\n",
      "  7.43519617e+02  7.60951722e+01]\n",
      "========================================================================================================================\n"
     ]
    }
   ],
   "source": [
    "# The coefficients\n",
    "print(\"Coefficients: \\n\",regr.coef_)\n",
    "print(\"=\"*120)"
   ]
  },
  {
   "cell_type": "code",
   "execution_count": 15,
   "metadata": {},
   "outputs": [
    {
     "name": "stdout",
     "output_type": "stream",
     "text": [
      "Mean squared error: 2004.57\n",
      "========================================================================================================================\n"
     ]
    }
   ],
   "source": [
    "# Mean Squared error\n",
    "mean_squared_error = metrics.mean_squared_error(diabetes_Y_test, diabetes_Y_prediction)\n",
    "print(\"Mean squared error: %.2f\" % mean_squared_error)\n",
    "print(\"=\"*120)"
   ]
  },
  {
   "cell_type": "code",
   "execution_count": 16,
   "metadata": {},
   "outputs": [
    {
     "name": "stdout",
     "output_type": "stream",
     "text": [
      "(10,)\n",
      "Iteration 0: 29457.766322\n",
      "Iteration 5000: 3048.215994\n",
      "Iteration 10000: 2941.405937\n",
      "Iteration 15000: 2927.438598\n",
      "Iteration 20000: 2924.730065\n",
      "Iteration 25000: 2923.771511\n",
      "Iteration 30000: 2923.171412\n",
      "Iteration 35000: 2922.670053\n",
      "Iteration 40000: 2922.206943\n",
      "Iteration 45000: 2921.765227\n",
      "Iteration 50000: 2921.339276\n",
      "Iteration 55000: 2920.926691\n",
      "Iteration 60000: 2920.526121\n",
      "Iteration 65000: 2920.136610\n",
      "Iteration 70000: 2919.757401\n",
      "Iteration 75000: 2919.387856\n",
      "Iteration 80000: 2919.027426\n",
      "Iteration 85000: 2918.675632\n",
      "Iteration 90000: 2918.332056\n",
      "Iteration 95000: 2917.996325\n",
      "========================================================================================================================\n"
     ]
    }
   ],
   "source": [
    "###### Our own implementation.\n",
    "# train datasets\n",
    "X = diabetes_X_train\n",
    "Y = diabetes_Y_train\n",
    "# train : initialization of weight vector and constant term\n",
    "w = np.random.uniform(low = -0.1, high = 1.0, size=diabetes_X.shape[1])\n",
    "b = 0.0\n",
    "print(w.shape)\n",
    "learning_rate = 0.1\n",
    "iteration = 100000\n",
    "\n",
    "# Train : Gradient Descent\n",
    "\n",
    "for i in range(iteration):\n",
    "    #calculate predictions\n",
    "    Y_prediction = X.dot(w) + b\n",
    "    \n",
    "    # calculate error and cost(mean square error)\n",
    "    error = Y - Y_prediction\n",
    "    cost = np.mean(np.power(error, 2))\n",
    "    \n",
    "    #calculate gradients\n",
    "    w_grad = (-1.0/len(X)) * error.dot(X)\n",
    "    b_grad = (-1.0/len(X)) * np.sum(error)\n",
    "    \n",
    "    # Update Parameters\n",
    "    w = w - (learning_rate * w_grad)\n",
    "    b = b - (learning_rate * b_grad)\n",
    "    \n",
    "    # output between iteration\n",
    "    if i%5000==0:\n",
    "        print(\"Iteration %d: %f\" %(i,cost))\n",
    "print(\"=\"*120)"
   ]
  },
  {
   "cell_type": "code",
   "execution_count": 17,
   "metadata": {},
   "outputs": [
    {
     "name": "stdout",
     "output_type": "stream",
     "text": [
      "Coefficients: \n",
      " [   3.66006742 -234.66640652  519.39196825  325.58468095 -176.51757693\n",
      "  -16.13796656 -179.84702279  108.16019983  502.92563023   78.96710669]\n",
      "Mean Squared error: 1993.53\n",
      "========================================================================================================================\n",
      "[233.  91. 111. 152. 120.  67. 310.  94. 183.  66. 173.  72.  49.  64.\n",
      "  48. 178. 104. 132. 220.  57.]\n",
      "========================================================================================================================\n",
      "[198.01150706 150.64326026 169.40862326 108.26928335 162.77618783\n",
      " 132.31680964 260.65034248 100.65881006 115.12043393 121.49015083\n",
      " 218.64795611  60.79988552 135.46325478 121.31493916  53.84695323\n",
      " 192.83267373 103.81217522 126.11162785 208.97176938  45.95723966]\n",
      "========================================================================================================================\n"
     ]
    }
   ],
   "source": [
    "# Test on Test data sets\n",
    "X = diabetes_X_test\n",
    "Y = diabetes_Y_test\n",
    "\n",
    "# Calculate predictions + calculate error and cost(same code as above)\n",
    "Y_prediction = X.dot(w) + b\n",
    "error = Y - Y_prediction\n",
    "cost = np.mean(np.power(error, 2))\n",
    "\n",
    "print(\"Coefficients: \\n\", w)\n",
    "print(\"Mean Squared error: %.2f\" %cost)\n",
    "print(\"=\"*120)\n",
    "print(Y)\n",
    "print(\"=\"*120)\n",
    "print(Y_prediction)\n",
    "print(\"=\"*120)"
   ]
  },
  {
   "cell_type": "code",
   "execution_count": 18,
   "metadata": {},
   "outputs": [
    {
     "name": "stdout",
     "output_type": "stream",
     "text": [
      "Error Percentage of sklearn and own implentation: 0.554\n"
     ]
    }
   ],
   "source": [
    "# Calculate percentage error \n",
    "Error = (mean_squared_error - cost)\n",
    "Error = (Error/1993.53) * 100\n",
    "print(\"Error Percentage of sklearn and own implentation: %.3f\"%Error)"
   ]
  },
  {
   "cell_type": "code",
   "execution_count": null,
   "metadata": {},
   "outputs": [],
   "source": []
  }
 ],
 "metadata": {
  "kernelspec": {
   "display_name": "Python 3",
   "language": "python",
   "name": "python3"
  },
  "language_info": {
   "codemirror_mode": {
    "name": "ipython",
    "version": 3
   },
   "file_extension": ".py",
   "mimetype": "text/x-python",
   "name": "python",
   "nbconvert_exporter": "python",
   "pygments_lexer": "ipython3",
   "version": "3.6.4"
  },
  "widgets": {
   "application/vnd.jupyter.widget-state+json": {
    "state": {},
    "version_major": 2,
    "version_minor": 0
   }
  }
 },
 "nbformat": 4,
 "nbformat_minor": 2
}
